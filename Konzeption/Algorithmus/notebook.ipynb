{
 "cells": [
  {
   "cell_type": "code",
   "execution_count": 56,
   "id": "1093b6ef-0424-41b6-b608-9919efad058f",
   "metadata": {},
   "outputs": [
    {
     "name": "stdout",
     "output_type": "stream",
     "text": [
      "Product ID and Amount: \n",
      " [[  1   2]\n",
      " [170  90]]\n"
     ]
    }
   ],
   "source": [
    "from scipy.optimize import minimize\n",
    "import math\n",
    "import numpy as np\n",
    "import Product\n",
    "import MaterialRessources\n",
    "import math\n",
    "class Batch(object):\n",
    "\n",
    "    def __init__(self, product_ID, productCount, produced, finished, priority):\n",
    "        self.product_ID = product_ID\n",
    "        self.productCount = productCount\n",
    "        self.produced = produced\n",
    "        self.finished = finished\n",
    "        self.priority = priority\n",
    "\n",
    "class Scheduling(object):\n",
    "\n",
    "    def __init__(self, batch_ID, station_ID, employee_ID):\n",
    "        self.batch_ID = batch_ID\n",
    "        self.station_ID = station_ID\n",
    "        self.employee_ID = employee_ID\n",
    "\n",
    "b1 = Batch(product_ID=1, productCount=100, produced=0, finished='false', priority=10)\n",
    "\n",
    "def materialPlanning(batch):\n",
    "    counter = 0\n",
    "    recipeID = 0\n",
    "    matList = []\n",
    "    matAmountList = []\n",
    "    for rec in Product.recipes:\n",
    "        if batch.product_ID == rec.product_ID:\n",
    "            recipeID = rec.recipe_ID\n",
    "    for mat in MaterialRessources.matRequirements:\n",
    "        if mat.recipe_ID == recipeID:\n",
    "            matList.append(mat.material_ID)\n",
    "            matAmountList.append(mat.requiredQuantities*batch.productCount)\n",
    "    for mat in matList:             # for Loop for reqMaterial-stock\n",
    "        counter +=1\n",
    "        for s in MaterialRessources.materialStorages:\n",
    "            if mat == s.material_ID:\n",
    "                matAmountList[counter-1] -= s.stock\n",
    "    narr = np.array([matList, matAmountList])\n",
    "    return narr\n",
    "\n",
    "print(\"Product ID and Amount:\", \"\\n\",materialPlanning(b1))\n",
    "\n",
    "#https://www.microtech.de/blog/optimale-bestellmenge\n",
    "def getStorageCosts(matID):\n",
    "    for ms in MaterialRessources.materialStorages:\n",
    "        if ms.material_ID == matID:\n",
    "            storageCosts = ms.costsPerUnit\n",
    "    return storageCosts\n",
    "\n",
    "def getMaterialCosts(matID):\n",
    "    for ms in MaterialRessources.materials:\n",
    "        if ms.material_ID == matID:\n",
    "            materialCosts = ms.pricePerUnit\n",
    "    return materialCosts"
   ]
  },
  {
   "cell_type": "code",
   "execution_count": 63,
   "id": "f4dd847a-9fef-41ef-ae2e-ae033884bd87",
   "metadata": {},
   "outputs": [
    {
     "name": "stdout",
     "output_type": "stream",
     "text": [
      "      fun: -19627982279.453514\n",
      " hess_inv: array([[266361.19793159, 106543.70707961, 159816.0257357 ],\n",
      "       [106543.70707961,  42618.33399464,  63926.18703847],\n",
      "       [159816.0257357 ,  63926.18703847,  95890.55962747]])\n",
      "      jac: array([0., 0., 0.])\n",
      "  message: 'Optimization terminated successfully.'\n",
      "     nfev: 64\n",
      "      nit: 2\n",
      "     njev: 16\n",
      "   status: 0\n",
      "  success: True\n",
      "        x: array([-1.29131578e+08, -5.16523262e+07, -7.74788579e+07])\n"
     ]
    }
   ],
   "source": [
    "def optimizedOrderAmount(x, storage_costs, order_costs, order_amount):\n",
    "    return storage_costs(x) + (order_costs(x) * order_amount/x)\n",
    "\n",
    "def createOrderCostsFunction(order_base_price, price_per_unit, max_rebate, rebate_const = 1.0):\n",
    "    def orderCosts(x):\n",
    "        return order_base_price + (price_per_unit * (1 - max_rebate * (1 - math.exp(- rebate_const * x)))) * x\n",
    "\n",
    "    return orderCosts\n",
    "\n",
    "def calloptOrderAmount(narr, storage_costs, order_costs, order_amount):\n",
    "    i = 0\n",
    "    while i < narr.size/2:\n",
    "        opt = minimize(optimizedOrderAmount, 20, args=(narr[0][i],narr[1][i], storage_costs, order_costs, order_amount), bounds=[(0, 1000)])\n",
    "        x = math.ceil(opt.x)\n",
    "        frequency = narr[1][i]/x\n",
    "        #frequency = math.ceil(frequency)\n",
    "        #res = orderCosts/fun*getStorageCosts(narr[0][i])\n",
    "        print(\"Optimized Order Amount for Material with ID\", narr[0][i], \"is:\", x,\"with the order frequency:\", frequency)\n",
    "        i += 1\n",
    "\n",
    "def optimizedOrder(x):\n",
    "    x1 = x[0]\n",
    "    x2 = x[1]\n",
    "    x3 = x[2]\n",
    "    return 100*x1+40*x2+60*x3\n",
    "x0 = [170,90, 120]\n",
    "opt = minimize(optimizedOrder, x0)\n",
    "print(opt)"
   ]
  },
  {
   "cell_type": "code",
   "execution_count": 64,
   "id": "9ed749ab-6584-40b0-9a38-fc2a59430c24",
   "metadata": {},
   "outputs": [],
   "source": [
    "import matplotlib.pyplot as plt\n"
   ]
  },
  {
   "cell_type": "code",
   "execution_count": 65,
   "id": "aecb9d52-ec68-4097-bbf9-d72108eb902c",
   "metadata": {},
   "outputs": [
    {
     "data": {
      "image/png": "[encoded data removed]",
      "text/plain": [
       "<Figure size 432x288 with 1 Axes>"
      ]
     },
     "metadata": {
      "needs_background": "light"
     },
     "output_type": "display_data"
    }
   ],
   "source": [
    "orderCostFunc = createOrderCostsFunction(10, 100, 0.2, 0.01)\n",
    "x_values = range(1, 200)\n",
    "plt.plot(x_values, [orderCostFunc(x) for x in x_values])\n",
    "plt.ylabel('order costs')\n",
    "plt.show()"
   ]
  },
  {
   "cell_type": "code",
   "execution_count": 73,
   "id": "c0426447-f444-4a8f-b2ce-98d62b242e19",
   "metadata": {},
   "outputs": [
    {
     "data": {
      "image/png": "[encoded data removed]",
      "text/plain": [
       "<Figure size 432x288 with 1 Axes>"
      ]
     },
     "metadata": {
      "needs_background": "light"
     },
     "output_type": "display_data"
    }
   ],
   "source": [
    "def storageCosts(x):\n",
    "    return 10*x\n",
    "\n",
    "plt.plot(x_values, [optimizedOrderAmount(x, storageCosts, orderCostFunc, 50) for x in x_values])\n",
    "plt.ylabel('order costs')\n",
    "plt.show()"
   ]
  },
  {
   "cell_type": "code",
   "execution_count": 72,
   "id": "c9c21beb-35c0-48b5-a6d0-ba351355f21f",
   "metadata": {},
   "outputs": [
    {
     "data": {
      "text/plain": [
       "      fun: 5043.027074040178\n",
       " hess_inv: <1x1 LbfgsInvHessProduct with dtype=float64>\n",
       "      jac: array([0.])\n",
       "  message: 'CONVERGENCE: NORM_OF_PROJECTED_GRADIENT_<=_PGTOL'\n",
       "     nfev: 12\n",
       "      nit: 5\n",
       "     njev: 6\n",
       "   status: 0\n",
       "  success: True\n",
       "        x: array([17.60115354])"
      ]
     },
     "execution_count": 72,
     "metadata": {},
     "output_type": "execute_result"
    }
   ],
   "source": [
    "order_amount = 50\n",
    "minimize(optimizedOrderAmount, 20, args=(storageCosts, createOrderCostsFunction(10, 100, 0.2, 0.01), order_amount), bounds=[(0, 1000)])"
   ]
  },
  {
   "cell_type": "code",
   "execution_count": null,
   "id": "31ffbe39-2e82-446d-bcff-a961595f5497",
   "metadata": {},
   "outputs": [],
   "source": []
  }
 ],
 "metadata": {
  "kernelspec": {
   "display_name": "Python 3 (ipykernel)",
   "language": "python",
   "name": "python3"
  },
  "language_info": {
   "codemirror_mode": {
    "name": "ipython",
    "version": 3
   },
   "file_extension": ".py",
   "mimetype": "text/x-python",
   "name": "python",
   "nbconvert_exporter": "python",
   "pygments_lexer": "ipython3",
   "version": "3.8.10"
  }
 },
 "nbformat": 4,
 "nbformat_minor": 5
}
